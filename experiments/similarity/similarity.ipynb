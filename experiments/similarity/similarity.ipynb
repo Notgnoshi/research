{
 "cells": [
  {
   "cell_type": "raw",
   "metadata": {},
   "source": [
    "\\author{Austin Gill}\n",
    "\\title{Data Analysis -- Haiku Graph Similarity}\n",
    "\\maketitle\n",
    "\\tableofcontents"
   ]
  },
  {
   "cell_type": "markdown",
   "metadata": {},
   "source": []
  },
  {
   "cell_type": "code",
   "execution_count": null,
   "metadata": {},
   "outputs": [],
   "source": [
    "# Automagically reimport haikulib if it changes.\n",
    "%load_ext autoreload\n",
    "%autoreload 2\n",
    "\n",
    "%config InlineBackend.figure_format = 'svg'\n",
    "%matplotlib inline\n",
    "\n",
    "import collections\n",
    "import itertools\n",
    "\n",
    "import grakel\n",
    "import matplotlib.pyplot as plt\n",
    "import numpy as np\n",
    "import nltk\n",
    "import networkx as nx\n",
    "import pandas as pd\n",
    "import seaborn as sns\n",
    "\n",
    "from haikulib import data, nlp, utils\n",
    "\n",
    "data_dir = data.get_data_dir() / \"experiments\" / \"similarity\"\n",
    "data_dir.mkdir(parents=True, exist_ok=True)\n",
    "pd.set_option(\"display.latex.repr\", True)\n",
    "pd.set_option(\"display.latex.longtable\", True)\n",
    "plt.rcParams[\"figure.figsize\"] = (16 * 0.6, 9 * 0.6)\n",
    "sns.set()"
   ]
  },
  {
   "cell_type": "code",
   "execution_count": null,
   "metadata": {},
   "outputs": [],
   "source": [
    "def get_generated_df():\n",
    "    return pd.read_csv(\n",
    "        # TODO: Actually generate this CSV file.\n",
    "        data.get_data_dir() / \"experiments\" / \"generation\" / \"knesser-ney-ngram\" / \"generated.csv\",\n",
    "        index_col=0,\n",
    "    )"
   ]
  },
  {
   "cell_type": "code",
   "execution_count": null,
   "metadata": {},
   "outputs": [],
   "source": [
    "corpus = data.get_df()\n",
    "# Exceedingly slot\n",
    "corpus[\"lemma\"] = list(nlp.lemmatize(corpus[\"haiku\"]))\n",
    "generated = get_generated_df()\n",
    "generated[\"lemma\"] = list(nlp.lemmatize(generated[\"haiku\"]))\n",
    "generated.head()"
   ]
  },
  {
   "cell_type": "code",
   "execution_count": null,
   "metadata": {},
   "outputs": [],
   "source": [
    "def haiku2graph(haiku):\n",
    "    \"\"\"Generate the word-adjacency graph for the given haiku.\"\"\"\n",
    "    edges = collections.Counter()\n",
    "    tokens = nltk.word_tokenize(haiku)\n",
    "    edges.update(utils.pairwise(tokens))\n",
    "    return grakel.Graph(edges, node_labels={k:k for k in tokens})"
   ]
  },
  {
   "cell_type": "code",
   "execution_count": null,
   "metadata": {},
   "outputs": [],
   "source": [
    "%%time\n",
    "gen_graphs = list(map(haiku2graph, generated[\"lemma\"]))\n",
    "corpus_graphs = list(map(haiku2graph, corpus[\"lemma\"]))\n",
    "\n",
    "# gen_graphs = [grakel.Graph(g.edges.data(), node_labels=g.nodes) for g in nx_gen_graphs]\n",
    "# corpus_graphs = [grakel.Graph(g.edges.data(), node_labels=g.nodes) for g in nx_corpus_graphs]"
   ]
  },
  {
   "cell_type": "code",
   "execution_count": null,
   "metadata": {},
   "outputs": [],
   "source": [
    "graph_kernel = grakel.kernels.WeisfeilerLehman(n_iter=2, normalize=True, base_kernel=(grakel.kernels.VertexHistogram, {\"sparse\": True}))"
   ]
  },
  {
   "cell_type": "code",
   "execution_count": null,
   "metadata": {},
   "outputs": [],
   "source": [
    "%%time\n",
    "for query_graph, query in zip(gen_graphs, generated[\"haiku\"]):\n",
    "    graph_kernel.fit([query_graph])\n",
    "    kernel = graph_kernel.transform(corpus_graphs)\n",
    "    \n",
    "    # number of similar haiku to find\n",
    "    n = 3\n",
    "    indices = np.argsort(kernel[:, 0])[-n:]\n",
    "    similar = corpus.iloc[indices]\n",
    "    print(\"query:\", query)\n",
    "    for sim in similar[\"haiku\"]:\n",
    "        print(\"\\tsimilar:\", sim)"
   ]
  }
 ],
 "metadata": {
  "file_extension": ".py",
  "kernelspec": {
   "display_name": "research",
   "language": "python",
   "name": "research"
  },
  "language_info": {
   "codemirror_mode": {
    "name": "ipython",
    "version": 3
   },
   "file_extension": ".py",
   "mimetype": "text/x-python",
   "name": "python",
   "nbconvert_exporter": "python",
   "pygments_lexer": "ipython3",
   "version": "3.6.8"
  },
  "mimetype": "text/x-python",
  "name": "python",
  "npconvert_exporter": "python",
  "pygments_lexer": "ipython3",
  "version": 3
 },
 "nbformat": 4,
 "nbformat_minor": 4
}
