{
 "cells": [
  {
   "cell_type": "markdown",
   "metadata": {},
   "source": [
    "# Exploratory Data Analysis - Words\n",
    "\n",
    "* Analyze word frequencies before and after removing stop words\n",
    "* Analyze word frequencies before and after stemming/lemmatization\n",
    "* Does zipf's law hold?\n",
    "* Look at words that are not English\n",
    "* British spellings"
   ]
  },
  {
   "cell_type": "code",
   "execution_count": null,
   "metadata": {},
   "outputs": [],
   "source": [
    "%load_ext autoreload\n",
    "%autoreload 2\n",
    "%aimport tools.utils\n",
    "\n",
    "%config InlineBackend.figure_format = 'svg'\n",
    "%matplotlib inline\n",
    "\n",
    "import operator\n",
    "import matplotlib.pyplot as plt\n",
    "import numpy as np\n",
    "import seaborn as sns\n",
    "\n",
    "sns.set()"
   ]
  },
  {
   "cell_type": "markdown",
   "metadata": {},
   "source": [
    "## Zipf's Law\n",
    "\n",
    "Simply put, Zipf's law states that the frequencies of words from a natural language corpus are inversely proportional to their rank in a frequency table. That is, a plot of their rank vs frequency on a log-log scale will be roughly linear.\n",
    "\n",
    "For example, The first word in the table below is twice as frequent as the second word, and three times as frequent as the third.\n",
    "\n",
    "| rank | value  | occurrences |\n",
    "|------|--------|-------------|\n",
    "| 1    | word 1 | 21          |\n",
    "| 2    | word 2 | 10          |\n",
    "| 3    | word 3 | 7           |"
   ]
  },
  {
   "cell_type": "code",
   "execution_count": null,
   "metadata": {},
   "outputs": [],
   "source": [
    "ranks = np.array([1, 2, 3])\n",
    "frequencies = np.array([21, 10, 7])\n",
    "\n",
    "plt.plot(np.log(ranks), np.log(frequencies))\n",
    "plt.plot(np.log(ranks), np.log(frequencies), \".\")\n",
    "\n",
    "plt.title(\"Example of Zipf's Law\")\n",
    "plt.xlabel(\"$\\log(rank)$\")\n",
    "plt.ylabel(\"$\\log(freq)$\")\n",
    "plt.show()"
   ]
  },
  {
   "cell_type": "markdown",
   "metadata": {},
   "source": [
    "So we get a bag-of-words representation of the dataset, and construct the frequency table."
   ]
  },
  {
   "cell_type": "code",
   "execution_count": null,
   "metadata": {},
   "outputs": [],
   "source": [
    "bag = tools.utils.get_bag_of_words()\n",
    "\n",
    "frequency_table = sorted(bag.items(), key=operator.itemgetter(1), reverse=True)\n",
    "words, frequencies = zip(*frequency_table)\n",
    "\n",
    "frequencies = np.array(frequencies)\n",
    "words = np.array(words)"
   ]
  },
  {
   "cell_type": "markdown",
   "metadata": {},
   "source": [
    "Plotting the ranks of each word vs their frequency on a log-log scale reveals that Zipf's law does seem to hold for most of the dataset."
   ]
  },
  {
   "cell_type": "code",
   "execution_count": null,
   "metadata": {},
   "outputs": [],
   "source": [
    "plt.plot(np.log(np.arange(1, len(words) + 1)), np.log(frequencies), '.', markersize=3)\n",
    "\n",
    "plt.title(\"Haiku Word Frequency\")\n",
    "plt.xlabel(\"$\\log(rank)$\")\n",
    "plt.ylabel(\"$\\log(freq)$\")\n",
    "plt.show()"
   ]
  },
  {
   "cell_type": "code",
   "execution_count": null,
   "metadata": {},
   "outputs": [],
   "source": [
    "words[:15]"
   ]
  },
  {
   "cell_type": "markdown",
   "metadata": {},
   "source": [
    "So then we find the words and their corresponding frequencies at the interesting breaks in the plot."
   ]
  },
  {
   "cell_type": "code",
   "execution_count": null,
   "metadata": {},
   "outputs": [],
   "source": [
    "# This should be a crime.\n",
    "interesting_indices = np.nonzero(\n",
    "    np.logical_or(\n",
    "        words == \"the\",\n",
    "        np.logical_or(\n",
    "            words == \"a\",\n",
    "            np.logical_or(\n",
    "                words == \"of\",\n",
    "                np.logical_or(\n",
    "                    words == \"to\",\n",
    "                    np.logical_or(\n",
    "                        words == \"i\",\n",
    "                        np.logical_or(words == \"her\", words == \"his\"),\n",
    "                    ),\n",
    "                ),\n",
    "            ),\n",
    "        ),\n",
    "    )\n",
    ")[0]\n",
    "print(interesting_indices)\n",
    "interesting_words = np.array([words[i] for i in interesting_indices])\n",
    "print(interesting_words)\n",
    "interesting_freqs = np.array([frequencies[i] for i in interesting_indices])\n",
    "print(interesting_freqs)"
   ]
  },
  {
   "cell_type": "code",
   "execution_count": null,
   "metadata": {},
   "outputs": [],
   "source": [
    "plt.plot(\n",
    "    np.log(np.arange(1, len(words) + 1)), np.log(frequencies), \".\", markersize=3\n",
    ")\n",
    "# plt.plot(np.log(interesting_indices + 1), np.log(interesting_freqs), \".\")\n",
    "\n",
    "# This should also be a crime.\n",
    "x_adjust = np.array([0.1, -0.6, 0.15, -0.6, 0.2, -0.6, 0.0])\n",
    "y_adjust = np.array([1.0, -1.2, 1.0, -1.3, 1.0, -1.3, 1.0])\n",
    "\n",
    "for word, freq, rank, xa, ya in zip(\n",
    "    interesting_words,\n",
    "    interesting_freqs,\n",
    "    interesting_indices,\n",
    "    x_adjust,\n",
    "    y_adjust,\n",
    "):\n",
    "    plt.annotate(\n",
    "        word,\n",
    "        xy=(np.log(rank + 1), np.log(freq) + ya / 20),\n",
    "        xytext=(np.log(rank + 1) + xa, np.log(freq) + ya),\n",
    "        size=9,\n",
    "        arrowprops={\n",
    "            'arrowstyle': '-',\n",
    "            'color': 'k'\n",
    "        }\n",
    "    )\n",
    "\n",
    "plt.title(\"Haiku Word Frequency\")\n",
    "plt.xlabel(\"$\\log(rank)$\")\n",
    "plt.ylabel(\"$\\log(freq)$\")\n",
    "plt.ylim((-0.5, 11.9))\n",
    "# plt.savefig('zipfs-uncleaned.svg')\n",
    "plt.show()"
   ]
  },
  {
   "cell_type": "markdown",
   "metadata": {},
   "source": [
    "## Zipf's Law After Removing Stop Words\n",
    "\n",
    "We remove the stop words from the bag of words."
   ]
  },
  {
   "cell_type": "code",
   "execution_count": null,
   "metadata": {},
   "outputs": [],
   "source": [
    "for stopword in tools.utils.stop_words():\n",
    "    if stopword in bag:\n",
    "        del bag[stopword]"
   ]
  },
  {
   "cell_type": "code",
   "execution_count": null,
   "metadata": {},
   "outputs": [],
   "source": [
    "frequency_table = sorted(bag.items(), key=operator.itemgetter(1), reverse=True)\n",
    "words, frequencies = zip(*frequency_table)\n",
    "\n",
    "frequencies = np.array(frequencies)\n",
    "words = np.array(words)"
   ]
  },
  {
   "cell_type": "code",
   "execution_count": null,
   "metadata": {},
   "outputs": [],
   "source": [
    "plt.plot(np.log(np.arange(1, len(words) + 1)), np.log(frequencies), '.', markersize=3)\n",
    "\n",
    "plt.title(\"Haiku Word Frequency\")\n",
    "plt.xlabel(\"$\\log(rank)$\")\n",
    "plt.ylabel(\"$\\log(freq)$\")\n",
    "plt.show()"
   ]
  },
  {
   "cell_type": "code",
   "execution_count": null,
   "metadata": {},
   "outputs": [],
   "source": [
    "words[:13]"
   ]
  },
  {
   "cell_type": "code",
   "execution_count": null,
   "metadata": {},
   "outputs": [],
   "source": [
    "# This should be a crime.\n",
    "interesting_indices = np.nonzero(\n",
    "    np.logical_or(\n",
    "        words == \"moon\",\n",
    "        np.logical_or(\n",
    "            words == \"rain\",\n",
    "            np.logical_or(\n",
    "                words == \"day\",\n",
    "                np.logical_or(\n",
    "                    words == \"winter\",\n",
    "                    np.logical_or(\n",
    "                        words == \"summer\",\n",
    "                        np.logical_or(\n",
    "                            words == \"spring\",\n",
    "                            np.logical_or(\n",
    "                                words == \"autumn\",\n",
    "                                np.logical_or(\n",
    "                                    words == \"snow\", words == \"night\"\n",
    "                                ),\n",
    "                            ),\n",
    "                        ),\n",
    "                    ),\n",
    "                ),\n",
    "            ),\n",
    "        ),\n",
    "    )\n",
    ")[0]\n",
    "print(interesting_indices)\n",
    "interesting_words = np.array([words[i] for i in interesting_indices])\n",
    "print(interesting_words)\n",
    "interesting_freqs = np.array([frequencies[i] for i in interesting_indices])\n",
    "print(interesting_freqs)"
   ]
  },
  {
   "cell_type": "code",
   "execution_count": null,
   "metadata": {},
   "outputs": [],
   "source": [
    "plt.plot(\n",
    "    np.log(np.arange(1, len(words) + 1)), np.log(frequencies), \".\", markersize=3\n",
    ")\n",
    "# plt.plot(np.log(interesting_indices + 1), np.log(interesting_freqs), \".\")\n",
    "\n",
    "# This should also be a crime.\n",
    "x_adjust = np.array([-0.35, -0.9, -0.23, -0.9, -0.1, -0.7, 0.3, -0.7, 0.4])\n",
    "y_adjust = np.array([1.0, -1.0, 1.1, -1.1, 1.1, -1.4, 1.0, -1.45, 1.0])\n",
    "\n",
    "for word, freq, rank, xa, ya in zip(\n",
    "    interesting_words,\n",
    "    interesting_freqs,\n",
    "    interesting_indices,\n",
    "    x_adjust,\n",
    "    y_adjust,\n",
    "):\n",
    "    plt.annotate(\n",
    "        word,\n",
    "        xy=(np.log(rank + 1), np.log(freq) + ya / 20),\n",
    "        xytext=(np.log(rank + 1) + xa, np.log(freq) + ya),\n",
    "        size=8,\n",
    "        arrowprops={\n",
    "            'arrowstyle': '-',\n",
    "            'color': 'k'\n",
    "        }\n",
    "    )\n",
    "\n",
    "plt.title(\"Haiku Word Frequency\")\n",
    "plt.xlabel(\"$\\log(rank)$\")\n",
    "plt.ylabel(\"$\\log(freq)$\")\n",
    "plt.xlim((-0.5, 10.5))\n",
    "plt.ylim((-0.5, 9))\n",
    "# plt.savefig(\"zipfs-cleaned.svg\")\n",
    "plt.show()"
   ]
  },
  {
   "cell_type": "markdown",
   "metadata": {},
   "source": [
    "# TODO: stem/lemmatize and repeat"
   ]
  }
 ],
 "metadata": {
  "kernelspec": {
   "display_name": "Python 3",
   "language": "python",
   "name": "python3"
  },
  "language_info": {
   "codemirror_mode": {
    "name": "ipython",
    "version": 3
   },
   "file_extension": ".py",
   "mimetype": "text/x-python",
   "name": "python",
   "nbconvert_exporter": "python",
   "pygments_lexer": "ipython3",
   "version": "3.6.7"
  }
 },
 "nbformat": 4,
 "nbformat_minor": 2
}
