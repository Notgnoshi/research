{
 "cells": [
  {
   "cell_type": "markdown",
   "metadata": {},
   "source": [
    "# Exploratory Data Analysis - Word Clouds\n",
    "\n",
    "* Build a word cloud after removing stop words\n",
    "* Identify haiku-specific stop words?\n",
    "* Build word cloud after stemming/lemmatization\n",
    "* Build word clouds for\n",
    "  * flowers\n",
    "  * colors\n",
    "  * season n-grams\n",
    "  * wind n-grams\n",
    "  * birds\n",
    "  * animals"
   ]
  }
 ],
 "metadata": {
  "kernelspec": {
   "display_name": "Python 3",
   "language": "python",
   "name": "python3"
  },
  "language_info": {
   "codemirror_mode": {
    "name": "ipython",
    "version": 3
   },
   "file_extension": ".py",
   "mimetype": "text/x-python",
   "name": "python",
   "nbconvert_exporter": "python",
   "pygments_lexer": "ipython3",
   "version": "3.6.7"
  }
 },
 "nbformat": 4,
 "nbformat_minor": 2
}
