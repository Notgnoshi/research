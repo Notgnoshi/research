{
 "cells": [
  {
   "cell_type": "raw",
   "metadata": {},
   "source": [
    "\\author{Austin Gill}\n",
    "\\title{Exploratory Data Analysis -- The Syllabic Structure of Haiku}\n",
    "\\maketitle\n",
    "\\tableofcontents"
   ]
  },
  {
   "cell_type": "markdown",
   "metadata": {},
   "source": [
    "# The Haiku Form\n",
    "\n",
    "Haiku are a form of Japanese poetry.\n",
    "They are the first three lines of a *waka*, which is a 5-7-5-7-7 poem, also known as a *tanka* or *uta*.\n",
    "\n",
    "*Waka* were often strung together into *renga*, which is a linked verse dialog between multiple poets.\n",
    "One poet would compose the first 5-7-5 syllables, then another would respond with the next 7-7 syllables, and so on.\n",
    "\n",
    "Of these long poems, the first three 5-7-5 lines are called a *hokku*.\n",
    "The *hokku* are the most recognizable and impressionable verses of *renga*, analgous to the first verse and chorus of a popular song.\n",
    "*Renga* were composed in meetings of several poets, and it was common for poets to come prepared with pre-composed *hokku*.\n",
    "\n",
    "Note that the strict 17-syllable structure is difficult (impossible) to maintain in translation.\n",
    "Thus many translators strive to match the style, theme, and mood of a Japanese haiku, maintaining its three-line structure, but abandoning the strict syllabic requirement.\n",
    "Further note that, as with any art style, there was experimentation with freer verse styles, in both content and structure.\n",
    "\n",
    "However in *The Haiku Form*, Joan Giroux defines\n",
    "\n",
    "> A haiku is a 17-syllable poem arranged in three lines of 5, 7, and 5 syllables, having some reference to the season and expressing the poet's union with nature.\n",
    "\n",
    "and still suggests that the 17-syllable structure applies to native English haiku just as well.\n",
    "\n",
    "The purpose of this notebook is to empirically answer the question:\n",
    "How many haiku actually follow the common 5-7-5 syllable pattern?\n",
    "\n",
    "> asshole questioning\n",
    ">\n",
    "> doesn't know about haiku\n",
    ">\n",
    "> 5-7-5 bitch\n",
    "\n",
    "by examining the haiku corpus scraped from popular haiku submission websites."
   ]
  },
  {
   "cell_type": "code",
   "execution_count": null,
   "metadata": {},
   "outputs": [],
   "source": [
    "# Automagically reimport haikulib if it changes.\n",
    "%load_ext autoreload\n",
    "%autoreload 2\n",
    "\n",
    "%config InlineBackend.figure_format = 'svg'\n",
    "%matplotlib inline\n",
    "\n",
    "import collections\n",
    "import operator\n",
    "\n",
    "import matplotlib.pyplot as plt\n",
    "import numpy as np\n",
    "import pandas as pd\n",
    "import scipy as sp\n",
    "import seaborn as sns\n",
    "\n",
    "from haikulib import data"
   ]
  },
  {
   "cell_type": "code",
   "execution_count": null,
   "metadata": {},
   "outputs": [],
   "source": [
    "experiment_dir = data.get_data_dir() / \"experiments\" / \"eda\" / \"syllables\"\n",
    "experiment_dir.mkdir(parents=True, exist_ok=True)\n",
    "\n",
    "pd.set_option(\"display.latex.repr\", True)\n",
    "pd.set_option(\"display.latex.longtable\", True)\n",
    "pd.set_option('display.max_colwidth', -1)\n",
    "\n",
    "# plt.rcParams has no effect if in the same cell as the matplotlib import.\n",
    "# See: https://github.com/ipython/ipython/issues/11098\n",
    "plt.rcParams[\"figure.figsize\"] = (16 * 0.6, 9 * 0.6)\n",
    "sns.set()\n",
    "\n",
    "df = data.get_df()\n",
    "df.head()"
   ]
  },
  {
   "cell_type": "markdown",
   "metadata": {},
   "source": [
    "# Total Syllable Counts\n",
    "\n",
    "First, we look at the distribution of lines in our corpus.\n",
    "The vast majority of haiku in the corpus are composed of three lines, with a few outliers on either side.\n",
    "\n",
    "In order to make the syllable count analysis easier, we consider only the three-line haiku."
   ]
  },
  {
   "cell_type": "code",
   "execution_count": null,
   "metadata": {},
   "outputs": [],
   "source": [
    "print(collections.Counter(df[\"lines\"]))\n",
    "# Consider only those haiku that consist of three lines.\n",
    "df = df[df[\"lines\"] == 3]\n",
    "# Reindex, so that adding a syllable count column isn't borked.\n",
    "df.reset_index(inplace=True, drop=True)"
   ]
  },
  {
   "cell_type": "markdown",
   "metadata": {},
   "source": [
    "As expected, the distribution of the total number of syllables is roughly normal."
   ]
  },
  {
   "cell_type": "code",
   "execution_count": null,
   "metadata": {},
   "outputs": [],
   "source": [
    "sns.distplot(\n",
    "    df[\"total_syllables\"],\n",
    "    bins=np.arange(5, 25),\n",
    "    kde_kws={\"bw\": 0.4},\n",
    "    hist_kws={\"align\": \"left\"},\n",
    ")\n",
    "plt.title(\"Haiku total syllable count\")\n",
    "plt.xlabel(\"syllables\")\n",
    "plt.ylabel(\"density\")\n",
    "plt.show()"
   ]
  },
  {
   "cell_type": "markdown",
   "metadata": {},
   "source": [
    "However, I expected the distribution to be centered on seventeen syllables, as that's the traditional structure discussed above.\n",
    "The actual center is thirteen syllables.\n",
    "\n",
    "The five-number summary of the total syllable count agrees."
   ]
  },
  {
   "cell_type": "code",
   "execution_count": null,
   "metadata": {},
   "outputs": [],
   "source": [
    "df[\"total_syllables\"].describe()"
   ]
  },
  {
   "cell_type": "markdown",
   "metadata": {},
   "source": [
    "The extreme outliers on either side are interesting, so we examine them to see if we need to prune the dataset."
   ]
  },
  {
   "cell_type": "code",
   "execution_count": null,
   "metadata": {},
   "outputs": [],
   "source": [
    "df[df[\"total_syllables\"] <= 4]"
   ]
  },
  {
   "cell_type": "code",
   "execution_count": null,
   "metadata": {},
   "outputs": [],
   "source": [
    "df[df[\"total_syllables\"] >= 26]"
   ]
  },
  {
   "cell_type": "markdown",
   "metadata": {},
   "source": [
    "The outliers on both sides seem subjectively reasonable, if strict adherence to the traditional seventeen-syllable structure is abandonded.\n",
    "They each \n",
    "\n",
    "**Note:** This outlier analysis revealed the presence of the following zero-syllable haiku in the corpus:\n",
    "\n",
    "> ♡ ♡ ♡ ♡ ♡\n",
    ">\n",
    "> ♡ ♡ ♡ ♡ ♡ ♡ ♡\n",
    ">\n",
    "> ♡ ♡ ♡ ♡ ♡\n",
    "\n",
    "This was treated as zero-syllables because the dataset preprocessing step ensures that the haiku are converted to lowercase ASCII-encoded alphabetic characters (`a` through `z`).\n",
    "Thus the above \"haiku\" was converted to the literal string `\"/ / #\"` (the `/` symbols are line separators, and `#` marks the end of the haiku).\n",
    "\n",
    "This \"haiku\" was removed from the dataset, and the outlier analysis re-ran (since these notebooks are intended to be reproducible).\n",
    "\n",
    "# Syllable Counts per Line\n",
    "\n",
    "Then we look at the syllable count for each line in the haiku corpus."
   ]
  },
  {
   "cell_type": "code",
   "execution_count": null,
   "metadata": {},
   "outputs": [],
   "source": [
    "one, two, three = zip(*df[\"syllables\"])\n",
    "\n",
    "bins = np.arange(1, 10)\n",
    "# Using the bandwidth kde kwarg to produce a smooth estimated kernel\n",
    "# that doesn't spike with every bin.\n",
    "kde_kws = {\"bw\": 0.4}\n",
    "hist_kws = {\"align\": \"left\"}\n",
    "\n",
    "\n",
    "sns.distplot(\n",
    "    one,\n",
    "    label=\"first\",\n",
    "    bins=bins,\n",
    "    kde_kws=kde_kws,\n",
    "    hist_kws=hist_kws,\n",
    ")\n",
    "sns.distplot(\n",
    "    two,\n",
    "    label=\"second\",\n",
    "    bins=bins,\n",
    "    kde_kws=kde_kws,\n",
    "    hist_kws=hist_kws,\n",
    ")\n",
    "sns.distplot(\n",
    "    three,\n",
    "    label=\"third\",\n",
    "    bins=bins,\n",
    "    kde_kws=kde_kws,\n",
    "    hist_kws=hist_kws,\n",
    ")\n",
    "\n",
    "plt.title(\"Haiku syllables per line\")\n",
    "plt.legend()\n",
    "plt.xlabel(\"syllables\")\n",
    "plt.ylabel(\"density\")\n",
    "plt.show()"
   ]
  },
  {
   "cell_type": "markdown",
   "metadata": {},
   "source": [
    "We can see that there is a clear distinction between the distributions of the middle and surrounding lines.\n",
    "This agrees with my expectations, but it is surprising to find that the middle distribution is centered on five, not seven, syllables.\n",
    "It's also interesting to note that the distributions of the first and last lines are similar, yet the distribution of the third line's syllables is slightly skewed higher."
   ]
  },
  {
   "cell_type": "markdown",
   "metadata": {},
   "source": [
    "# Common Syllable Structures\n",
    "\n",
    "Again, restricted to three-line haiku, we can look at the most common syllabic structures occurring in the corpus."
   ]
  },
  {
   "cell_type": "code",
   "execution_count": null,
   "metadata": {},
   "outputs": [],
   "source": [
    "counts = collections.Counter(df[\"syllables\"])\n",
    "total = sum(counts.values())\n",
    "\n",
    "rows = {\n",
    "    \"syllables\": list(counts.keys()),\n",
    "    \"count\": list(counts.values()),\n",
    "    \"proportion\": [v / total for v in counts.values()],\n",
    "}\n",
    "\n",
    "syllables = pd.DataFrame(rows)\n",
    "syllables.sort_values(by=\"count\", inplace=True, ascending=False)\n",
    "syllables.reset_index(inplace=True, drop=True)\n",
    "syllables.head(10)"
   ]
  },
  {
   "cell_type": "markdown",
   "metadata": {},
   "source": [
    "We see that the 5-7-5 structure *is* the most common, but that *it occurs in only 2.8% of the corpus*.\n",
    "This is surprising.\n",
    "I had expected the traditional form to be dominant over the others, with a few outliers."
   ]
  },
  {
   "cell_type": "code",
   "execution_count": null,
   "metadata": {},
   "outputs": [],
   "source": [
    "plt.plot(np.log(syllables[\"count\"]))\n",
    "\n",
    "plt.title(\"Distribution of syllabic structures in haiku\")\n",
    "plt.ylabel(\"$\\log(freq)$\")\n",
    "plt.xlabel(\"$rank$\")\n",
    "plt.show()"
   ]
  },
  {
   "cell_type": "markdown",
   "metadata": {},
   "source": [
    "With the exception of the most common structures, the distribution of syllabic structures in the haiku corpus is exponential with respect to rank.\n",
    "Note that the stair-step nature of the bottom end of the distribution is due to the discrete nature of the frequencies.\n",
    "There are a number of haiku with unique syllabic structures (all with the same frequency), and there are a number of *pairs* of haiku with the same structure, and so on.\n",
    "\n",
    "# Conclusion\n",
    "\n",
    "Empirically, the syllabic structure of haiku (restricted to my corpus) is far more varied than expected.\n",
    "Previous analysis on the content and vocabulary (with respect to word frequencies and color content) met my expectations, and confirmed the stereotypical seasonal content of haiku.\n",
    "This analysis, however, indicates that the one distinguishing feature of haiku in popular media --- its syllabic structure --- is not nearly as distinctive in the actual corpus."
   ]
  }
 ],
 "metadata": {
  "kernelspec": {
   "display_name": "research",
   "language": "python",
   "name": "research"
  },
  "language_info": {
   "codemirror_mode": {
    "name": "ipython",
    "version": 3
   },
   "file_extension": ".py",
   "mimetype": "text/x-python",
   "name": "python",
   "nbconvert_exporter": "python",
   "pygments_lexer": "ipython3",
   "version": "3.6.8"
  }
 },
 "nbformat": 4,
 "nbformat_minor": 4
}
