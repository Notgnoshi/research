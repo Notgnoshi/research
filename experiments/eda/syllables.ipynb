{
 "cells": [
  {
   "cell_type": "markdown",
   "metadata": {},
   "source": [
    "# Exploratory Data Analysis - Syllable Structure\n",
    "\n",
    "How many haikus actually follow the common 5-7-5 syllable pattern?\n",
    "\n",
    "```text\n",
    "asshole questioning\n",
    "doesn't know about haiku\n",
    "5-7-5 bitch\n",
    "```"
   ]
  }
 ],
 "metadata": {
  "kernelspec": {
   "display_name": "Python 3",
   "language": "python",
   "name": "python3"
  },
  "language_info": {
   "codemirror_mode": {
    "name": "ipython",
    "version": 3
   },
   "file_extension": ".py",
   "mimetype": "text/x-python",
   "name": "python",
   "nbconvert_exporter": "python",
   "pygments_lexer": "ipython3",
   "version": "3.6.7"
  }
 },
 "nbformat": 4,
 "nbformat_minor": 2
}
