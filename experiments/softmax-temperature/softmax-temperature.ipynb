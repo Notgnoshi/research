{
 "cells": [
  {
   "cell_type": "code",
   "execution_count": null,
   "metadata": {},
   "outputs": [],
   "source": [
    "%config InlineBackend.figure_format = 'svg'\n",
    "%matplotlib inline\n",
    "\n",
    "import numpy as np\n",
    "import matplotlib.pyplot as plt\n",
    "import tikzplotlib\n",
    "import scipy as sp\n",
    "import seaborn as sns\n",
    "sns.set()\n",
    "plt.rcParams[\"figure.figsize\"] = (16 * 0.7, 9 * 0.7)\n",
    "plt.rcParams['text.latex.preamble']=[r\"\\usepackage{amsmath}\"]\n",
    "plt.rc('text', usetex=True)\n",
    "plt.rc('font', family='serif')"
   ]
  },
  {
   "cell_type": "code",
   "execution_count": null,
   "metadata": {},
   "outputs": [],
   "source": [
    "def softmax(values, temperature=1.0):\n",
    "    preds = np.exp(values / temperature)\n",
    "    return preds / np.sum(preds)\n",
    "\n",
    "def sample(values, temperature=1.0):\n",
    "    preds = np.exp(np.log(values) / temperature)\n",
    "    return preds / np.sum(preds)"
   ]
  },
  {
   "cell_type": "code",
   "execution_count": null,
   "metadata": {},
   "outputs": [],
   "source": [
    "x = np.linspace(start=0, stop=1, num=500)\n",
    "# relative likilihoods\n",
    "likelihoods = sp.stats.argus.pdf(x, chi=1, loc=0, scale=1)\n",
    "# Add random noise\n",
    "likelihoods1 = likelihoods + np.random.normal(loc=0, scale=0.005, size=len(likelihoods))\n",
    "likelihoods2 = likelihoods + np.random.normal(loc=0, scale=0.005, size=len(likelihoods))\n",
    "softs = softmax(likelihoods1)\n",
    "\n",
    "plt.plot(x, softs, label=r\"$\\mathrm{softmax}(\\vec x)$\")\n",
    "plt.plot(x, softmax(likelihoods2, temperature=0.8), label=r\"$\\mathrm{softmax}(\\vec x, t=0.8)$\")\n",
    "plt.plot(x, sample(softs, temperature=0.8), label=r\"$\\mathrm{sample}(\\mathrm{softmax}(\\vec x), t=0.8)$\")\n",
    "# plt.plot(x, sample(softs, temperature=0.6), label=r\"$sample(softmax(\\vec x), t=0.6)$\")\n",
    "\n",
    "plt.title(\"Softmax and temperature sampling\")\n",
    "plt.legend()\n",
    "\n",
    "plt.show()"
   ]
  },
  {
   "cell_type": "code",
   "execution_count": null,
   "metadata": {},
   "outputs": [],
   "source": [
    "x = np.linspace(start=0, stop=1, num=100)\n",
    "# relative likilihoods\n",
    "likelihoods = sp.stats.argus.pdf(x, chi=1, loc=0, scale=1)\n",
    "# Add random noise\n",
    "likelihoods = likelihoods + np.random.normal(loc=0, scale=0.005, size=len(likelihoods))\n",
    "\n",
    "plt.plot(x, softmax(likelihoods, temperature=1.0), label=r\"$\\mathrm{softmax}(\\vec x)$\")\n",
    "plt.plot(x, softmax(likelihoods, temperature=1.5), label=r\"$\\mathrm{softmax}(\\vec x, t=1.5)$\")\n",
    "plt.plot(x, softmax(likelihoods, temperature=2), label=r\"$\\mathrm{softmax}(\\vec x, t=2.0)$\")\n",
    "plt.plot(x, softmax(likelihoods, temperature=0.8), label=r\"$\\mathrm{softmax}(\\vec x, t=0.8)$\")\n",
    "plt.plot(x, softmax(likelihoods, temperature=0.6), label=r\"$\\mathrm{softmax}(\\vec x, t=0.6)$\")\n",
    "\n",
    "plt.title(\"Softmax and temperature sampling\")\n",
    "plt.legend()\n",
    "plt.tick_params(labelbottom=False)\n",
    "tikzplotlib.save(\"softmax-temperature.tikz\", figurewidth=r\"\\textwidth\")\n",
    "plt.show()"
   ]
  }
 ],
 "metadata": {
  "kernelspec": {
   "display_name": "research",
   "language": "python",
   "name": "research"
  },
  "language_info": {
   "codemirror_mode": {
    "name": "ipython",
    "version": 3
   },
   "file_extension": ".py",
   "mimetype": "text/x-python",
   "name": "python",
   "nbconvert_exporter": "python",
   "pygments_lexer": "ipython3",
   "version": "3.6.8"
  }
 },
 "nbformat": 4,
 "nbformat_minor": 4
}
