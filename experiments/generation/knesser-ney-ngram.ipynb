{
 "cells": [
  {
   "cell_type": "code",
   "execution_count": null,
   "metadata": {},
   "outputs": [],
   "source": [
    "# Automagically reimport haikulib if it changes.\n",
    "%load_ext autoreload\n",
    "%autoreload 2\n",
    "\n",
    "%config InlineBackend.figure_format = 'svg'\n",
    "%matplotlib inline\n",
    "\n",
    "import matplotlib.pyplot as plt\n",
    "import nltk\n",
    "import numpy as np\n",
    "import pandas as pd\n",
    "import seaborn as sns\n",
    "\n",
    "from haikulib import data, nlp, utils\n",
    "\n",
    "data_dir = data.get_data_dir() / \"experiments\" / \"generation\" / \"knesser-ney-ngram\"\n",
    "data_dir.mkdir(parents=True, exist_ok=True)\n",
    "pd.set_option(\"display.latex.repr\", True)\n",
    "pd.set_option(\"display.latex.longtable\", True)\n",
    "plt.rcParams[\"figure.figsize\"] = (16, 9)\n",
    "sns.set()"
   ]
  },
  {
   "cell_type": "code",
   "execution_count": null,
   "metadata": {},
   "outputs": [],
   "source": [
    "order=3\n",
    "haiku = data.get_df()\n",
    "words = data.get_bag_of(kind=\"words\")\n",
    "\n",
    "tokens = nltk.word_tokenize(\" \".join(haiku[\"haiku\"]))\n",
    "ngrams = nltk.everygrams(tokens, max_len=order)\n",
    "\n",
    "lm = nltk.lm.models.KneserNeyInterpolated(order=order)\n",
    "lm.fit([ngrams], vocabulary_text=tokens)"
   ]
  },
  {
   "cell_type": "code",
   "execution_count": null,
   "metadata": {},
   "outputs": [],
   "source": [
    "next_word = None\n",
    "# TODO: Pick a random seed word.\n",
    "# TODO: Generate a random seed, and print it so that the results\n",
    "# are reproducible.\n",
    "# TODO: Consider using start-of-haiku symbols like '<s>'...'</s>'.\n",
    "haiku = [\"summer\"]\n",
    "\n",
    "while next_word != \"#\":\n",
    "    next_word = lm.generate(text_seed=haiku)\n",
    "    print(next_word)\n",
    "    haiku.append(next_word)\n",
    "\n",
    "print(haiku)"
   ]
  },
  {
   "cell_type": "code",
   "execution_count": null,
   "metadata": {},
   "outputs": [],
   "source": []
  }
 ],
 "metadata": {
  "file_extension": ".py",
  "language_info": {
   "codemirror_mode": {
    "name": "ipython",
    "version": 3
   },
   "name": "python"
  },
  "mimetype": "text/x-python",
  "name": "python",
  "npconvert_exporter": "python",
  "pygments_lexer": "ipython3",
  "version": 3
 },
 "nbformat": 4,
 "nbformat_minor": 2
}
