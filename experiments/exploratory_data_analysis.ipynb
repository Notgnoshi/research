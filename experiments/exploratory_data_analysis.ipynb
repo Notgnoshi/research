{
 "cells": [
  {
   "cell_type": "markdown",
   "metadata": {},
   "source": [
    "# Exploratory Data Analysis\n",
    "\n",
    "* Analyze word frequencies before and after removing stop words. Consider the rarest words, and potentially remove the containing haikus from the dataset.\n",
    "* \"grey\" vs \"gray\" and other British spellings.\n",
    "* Build a word cloud. This could be interesting to get a sense of what kind of language is in the dataset.\n",
    "  * Build word cloud after removing stop words.\n",
    "  * Identify haiku-specific stop words.\n",
    "  * Build word cloud after stemming/lemmatization.\n",
    "  * Do the same thing for flowers, colors, season bigrams, wind bigrams, etc.\n",
    "* Interesting bi and tri-grams. '`*` hour', '`*` blossom(s)', '`*` season `*`', '`*` wind', `<flower name>` etc.\n",
    "* What birds are mentioned. What flowers? What animals?\n",
    "* There was a PyCon talk about the colors in works of literature. Can I do the same with haikus?\n",
    "* Check whether Zipf's law holds for the haiku dataset.\n",
    "* Find haikus that are very similar to each other (small edit distance)\n",
    "* Find outliers\n",
    "* There's an essay on haiku FAQ [here](http://haiku.ru/frog/alexey_def.htm). There are educational links [here](https://www.ahapoetry.com/Bare%20Bones/bbtoc%20intro.html) and [here](https://www.ahapoetry.com/all%20haiku%20info.html) on how to write haikus.\n",
    "\n",
    "  Qualify each point with real data.\n",
    "\n",
    "  ```text\n",
    "  asshole questioning\n",
    "  doesn't know about haiku\n",
    "  5-7-5 bitch\n",
    "  ```\n",
    "\n",
    "* Attempt NLP/ML topic modeling.\n",
    "* Attempt ML sentiment analysis.\n",
    "* Can the haikus be clustered by their topics, sentiments, or something else?\n",
    "  * The topics will be a vector of words? So can the vectors be clustered?\n",
    "* Can an RNN find the appropriate line breaks?\n",
    "  * Variable length inputs and outputs will be tricky\n",
    "  * Look into seq2seq where there's an encoder and decoder at both ends of the RNN.\n",
    "* How many haikus actually follow the 5-7-5 common pattern?\n",
    "  * Need to find a good way to count syllables\n",
    "  * Also look at number of lines\n",
    "* Naive haiku generation with Markov chains and LSTM networks\n",
    "* Think about grammatical evolution with some kind of encoding and production rules"
   ]
  },
  {
   "cell_type": "code",
   "execution_count": 1,
   "metadata": {},
   "outputs": [],
   "source": [
    "import pandas as pd"
   ]
  },
  {
   "cell_type": "code",
   "execution_count": 6,
   "metadata": {},
   "outputs": [
    {
     "data": {
      "text/html": [
       "<div>\n",
       "<style scoped>\n",
       "    .dataframe tbody tr th:only-of-type {\n",
       "        vertical-align: middle;\n",
       "    }\n",
       "\n",
       "    .dataframe tbody tr th {\n",
       "        vertical-align: top;\n",
       "    }\n",
       "\n",
       "    .dataframe thead th {\n",
       "        text-align: right;\n",
       "    }\n",
       "</style>\n",
       "<table border=\"1\" class=\"dataframe\">\n",
       "  <thead>\n",
       "    <tr style=\"text-align: right;\">\n",
       "      <th></th>\n",
       "      <th>haiku</th>\n",
       "      <th>lines</th>\n",
       "    </tr>\n",
       "  </thead>\n",
       "  <tbody>\n",
       "    <tr>\n",
       "      <th>0</th>\n",
       "      <td>['sun bleached billboard', 'the gravel road en...</td>\n",
       "      <td>3</td>\n",
       "    </tr>\n",
       "    <tr>\n",
       "      <th>1</th>\n",
       "      <td>['flute notes', 'fluttering', 'petals']</td>\n",
       "      <td>3</td>\n",
       "    </tr>\n",
       "    <tr>\n",
       "      <th>2</th>\n",
       "      <td>[\"the rill's trick\", 'a greenfinch moves', 'it...</td>\n",
       "      <td>3</td>\n",
       "    </tr>\n",
       "    <tr>\n",
       "      <th>3</th>\n",
       "      <td>['the first stroke', 'of the ink brush', 'rave...</td>\n",
       "      <td>3</td>\n",
       "    </tr>\n",
       "    <tr>\n",
       "      <th>4</th>\n",
       "      <td>['evening prayer', 'the sediment', 'begins to ...</td>\n",
       "      <td>3</td>\n",
       "    </tr>\n",
       "  </tbody>\n",
       "</table>\n",
       "</div>"
      ],
      "text/plain": [
       "                                               haiku  lines\n",
       "0  ['sun bleached billboard', 'the gravel road en...      3\n",
       "1            ['flute notes', 'fluttering', 'petals']      3\n",
       "2  [\"the rill's trick\", 'a greenfinch moves', 'it...      3\n",
       "3  ['the first stroke', 'of the ink brush', 'rave...      3\n",
       "4  ['evening prayer', 'the sediment', 'begins to ...      3"
      ]
     },
     "execution_count": 6,
     "metadata": {},
     "output_type": "execute_result"
    }
   ],
   "source": [
    "haikus = pd.read_csv('../data/haikus.csv', index_col=0)\n",
    "haikus.head()"
   ]
  },
  {
   "cell_type": "code",
   "execution_count": null,
   "metadata": {},
   "outputs": [],
   "source": []
  }
 ],
 "metadata": {
  "kernelspec": {
   "display_name": "Python 3",
   "language": "python",
   "name": "python3"
  },
  "language_info": {
   "codemirror_mode": {
    "name": "ipython",
    "version": 3
   },
   "file_extension": ".py",
   "mimetype": "text/x-python",
   "name": "python",
   "nbconvert_exporter": "python",
   "pygments_lexer": "ipython3",
   "version": "3.6.7"
  }
 },
 "nbformat": 4,
 "nbformat_minor": 2
}
