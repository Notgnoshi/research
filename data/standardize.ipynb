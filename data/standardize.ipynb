{
 "cells": [
  {
   "cell_type": "code",
   "execution_count": null,
   "metadata": {},
   "outputs": [],
   "source": [
    "import string\n",
    "\n",
    "import pandas as pd\n",
    "\n",
    "# Preserve alphabetic, spaces, and single quotes.\n",
    "ALPHABET = frozenset(string.ascii_lowercase + \" \" + \"'\")"
   ]
  },
  {
   "cell_type": "code",
   "execution_count": null,
   "metadata": {},
   "outputs": [],
   "source": [
    "def filter_text(text):\n",
    "    return ' '.join(filter(ALPHABET.__contains__, text.lower()))\n",
    "\n",
    "def preprocess(haiku):\n",
    "    \"\"\"Preprocess the text of a haiku.\n",
    "    \n",
    "    Remove all punctuation, except for apostophes.\n",
    "    Ensure ascii character set.\n",
    "    :param haiku: The haiku to preprocess.\n",
    "    :type haiku: A list of str lines.\n",
    "    \"\"\"\n",
    "    \n",
    "    return haiku"
   ]
  },
  {
   "cell_type": "code",
   "execution_count": null,
   "metadata": {},
   "outputs": [],
   "source": [
    "rows = []\n",
    "with open('haikus.txt', 'r') as datafile:\n",
    "    haiku = []\n",
    "    for line in datafile:\n",
    "        line = line.strip()\n",
    "        if line:\n",
    "            haiku.append(line)\n",
    "        # A blank line an a nonempty haiku list signal the end of a haiku.\n",
    "        elif not line and haiku:\n",
    "            haiku = preprocess(haiku)\n",
    "            data = {'haiku': haiku.copy(), 'lines': len(haiku)}\n",
    "            rows.append(data)\n",
    "            haiku.clear()"
   ]
  },
  {
   "cell_type": "code",
   "execution_count": null,
   "metadata": {},
   "outputs": [],
   "source": []
  },
  {
   "cell_type": "code",
   "execution_count": null,
   "metadata": {},
   "outputs": [],
   "source": [
    "haikus = pd.DataFrame(rows)"
   ]
  }
 ],
 "metadata": {
  "kernelspec": {
   "display_name": "Python 3",
   "language": "python",
   "name": "python3"
  },
  "language_info": {
   "codemirror_mode": {
    "name": "ipython",
    "version": 3
   },
   "file_extension": ".py",
   "mimetype": "text/x-python",
   "name": "python",
   "nbconvert_exporter": "python",
   "pygments_lexer": "ipython3",
   "version": "3.6.7"
  }
 },
 "nbformat": 4,
 "nbformat_minor": 2
}
