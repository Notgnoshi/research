{
 "cells": [
  {
   "cell_type": "markdown",
   "metadata": {},
   "source": [
    "# Cleaning and Standardization\n",
    "This notebook takes a text file of haikus saved in the form\n",
    "```\n",
    "sun-bleached billboard\n",
    "the gravel road ends\n",
    "at peaches\n",
    "\n",
    "flute notes\n",
    "fluttering\n",
    "petals\n",
    "```\n",
    "and preprocesses them before creating a CSV file containing the preprocessed haikus.\n",
    "\n",
    "To preprocess the haikus, I decided that they should retain apostophes, but no other punctuation. They should also retain numbers (for now). There are many hyphenated words and phrases, so hyphens and en dashes should be replaced with spaces. There are also unicode non-breaking spaces (`0xa0`), so those should be replaced with normal spaces. Duplicate spaces are replaced with a single space.\n",
    "\n",
    "Further, duplicate haikus should be removed. To fascilitate duplicate removals, the line breaks are replaced with `/`'s, but the haikus are stored as lists of lines."
   ]
  },
  {
   "cell_type": "code",
   "execution_count": 1,
   "metadata": {},
   "outputs": [],
   "source": [
    "import re\n",
    "import string\n",
    "\n",
    "import pandas as pd\n",
    "\n",
    "# Preserve alphabetic, numeric, spaces, and single quotes.\n",
    "ALPHABET = frozenset(string.ascii_lowercase + \" \" + \"'\" + \"/\" + string.digits)"
   ]
  },
  {
   "cell_type": "code",
   "execution_count": 2,
   "metadata": {},
   "outputs": [],
   "source": [
    "def preprocess(text):\n",
    "    \"\"\"Preprocess the text of a haiku.\n",
    "    \n",
    "    Remove all punctuation, except for apostophes.\n",
    "    Ensure ascii character set.\n",
    "    \"\"\"\n",
    "    # Replace 0xa0 (unicode nbsp) with an ascii space\n",
    "    text = text.replace('\\xa0', ' ')\n",
    "    # Replace hyphen and en dash with space\n",
    "    text = text.replace('-', ' ')\n",
    "    text = text.replace('–', ' ')\n",
    "    # Remove all other non-ascii characters\n",
    "    text = text.encode('ascii', 'ignore').decode('utf-8')\n",
    "    # Remove redundant whitespace\n",
    "    text = re.sub(r'\\s+', ' ', text).strip()\n",
    "\n",
    "    return ''.join(filter(ALPHABET.__contains__, text.lower()))"
   ]
  },
  {
   "cell_type": "code",
   "execution_count": 3,
   "metadata": {},
   "outputs": [
    {
     "data": {
      "text/plain": [
       "\"fadf asd/f'asdfiu\""
      ]
     },
     "execution_count": 3,
     "metadata": {},
     "output_type": "execute_result"
    }
   ],
   "source": [
    "preprocess('fadf\\xa0asd/f&!^#\\'\"\"ASDFIU')"
   ]
  },
  {
   "cell_type": "code",
   "execution_count": 4,
   "metadata": {},
   "outputs": [],
   "source": [
    "# Use a set to remove duplicates.\n",
    "haikus = set()\n",
    "with open('haikus.txt', 'r', encoding='utf-8') as datafile:\n",
    "    haiku = ''\n",
    "    for line in datafile:\n",
    "        line = line.strip()\n",
    "        if line:\n",
    "            # Separate lines with `/`, but not if it's the first line in the haiku\n",
    "            if haiku:\n",
    "                haiku += '/'\n",
    "            haiku += line\n",
    "        # A blank line an a nonempty haiku list signal the end of a haiku.\n",
    "        elif not line and haiku:\n",
    "            haikus.add(preprocess(haiku))\n",
    "            haiku = ''\n",
    "rows = []\n",
    "for haiku in haikus:\n",
    "    # Store the haikus as a list of lines, to fascilitate easier analysis.\n",
    "    haiku = haiku.split('/')\n",
    "    row = {\n",
    "        'haiku': haiku,\n",
    "        'lines': len(haiku),\n",
    "    }\n",
    "    rows.append(row)"
   ]
  },
  {
   "cell_type": "code",
   "execution_count": 5,
   "metadata": {},
   "outputs": [
    {
     "name": "stdout",
     "output_type": "stream",
     "text": [
      "haiku    [sucking, chocolate squares, oh it's a lonely ...\n",
      "lines                                                    5\n",
      "Name: 866, dtype: object\n"
     ]
    },
    {
     "data": {
      "text/html": [
       "<div>\n",
       "<style scoped>\n",
       "    .dataframe tbody tr th:only-of-type {\n",
       "        vertical-align: middle;\n",
       "    }\n",
       "\n",
       "    .dataframe tbody tr th {\n",
       "        vertical-align: top;\n",
       "    }\n",
       "\n",
       "    .dataframe thead th {\n",
       "        text-align: right;\n",
       "    }\n",
       "</style>\n",
       "<table border=\"1\" class=\"dataframe\">\n",
       "  <thead>\n",
       "    <tr style=\"text-align: right;\">\n",
       "      <th></th>\n",
       "      <th>haiku</th>\n",
       "      <th>lines</th>\n",
       "    </tr>\n",
       "  </thead>\n",
       "  <tbody>\n",
       "    <tr>\n",
       "      <th>23194</th>\n",
       "      <td>[thunder, the farmers at the, credit union app...</td>\n",
       "      <td>3</td>\n",
       "    </tr>\n",
       "    <tr>\n",
       "      <th>23195</th>\n",
       "      <td>[first date, letting her put snow, down my neck]</td>\n",
       "      <td>3</td>\n",
       "    </tr>\n",
       "    <tr>\n",
       "      <th>23196</th>\n",
       "      <td>[migrating birds, i hear his voice in the wind...</td>\n",
       "      <td>3</td>\n",
       "    </tr>\n",
       "    <tr>\n",
       "      <th>23197</th>\n",
       "      <td>[peace officers' memorial, the empty slots, fo...</td>\n",
       "      <td>3</td>\n",
       "    </tr>\n",
       "    <tr>\n",
       "      <th>23198</th>\n",
       "      <td>[striking a match, dawn flashed in, the oval m...</td>\n",
       "      <td>3</td>\n",
       "    </tr>\n",
       "  </tbody>\n",
       "</table>\n",
       "</div>"
      ],
      "text/plain": [
       "                                                   haiku  lines\n",
       "23194  [thunder, the farmers at the, credit union app...      3\n",
       "23195   [first date, letting her put snow, down my neck]      3\n",
       "23196  [migrating birds, i hear his voice in the wind...      3\n",
       "23197  [peace officers' memorial, the empty slots, fo...      3\n",
       "23198  [striking a match, dawn flashed in, the oval m...      3"
      ]
     },
     "execution_count": 5,
     "metadata": {},
     "output_type": "execute_result"
    }
   ],
   "source": [
    "haikus = pd.DataFrame(rows)\n",
    "max_row = haikus['lines'].idxmax()\n",
    "print(haikus.loc[max_row])\n",
    "haikus.tail()"
   ]
  },
  {
   "cell_type": "code",
   "execution_count": null,
   "metadata": {},
   "outputs": [],
   "source": [
    "haikus.to_csv('haikus.csv')"
   ]
  }
 ],
 "metadata": {
  "kernelspec": {
   "display_name": "Python 3",
   "language": "python",
   "name": "python3"
  },
  "language_info": {
   "codemirror_mode": {
    "name": "ipython",
    "version": 3
   },
   "file_extension": ".py",
   "mimetype": "text/x-python",
   "name": "python",
   "nbconvert_exporter": "python",
   "pygments_lexer": "ipython3",
   "version": "3.6.7"
  }
 },
 "nbformat": 4,
 "nbformat_minor": 2
}
