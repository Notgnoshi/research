{
 "cells": [
  {
   "cell_type": "markdown",
   "metadata": {},
   "source": [
    "# Cleaning and Standardization\n",
    "This notebook takes a text file of haikus saved in the form\n",
    "```\n",
    "sun-bleached billboard\n",
    "the gravel road ends\n",
    "at peaches\n",
    "\n",
    "flute notes\n",
    "fluttering\n",
    "petals\n",
    "```\n",
    "and preprocesses them before creating a CSV file containing the preprocessed haikus.\n",
    "\n",
    "To preprocess the haikus, I decided that they should retain apostophes, but no other punctuation. They should also retain numbers (for now). There are many hyphenated words and phrases, so hyphens and en dashes should be replaced with spaces. There are also unicode non-breaking spaces (`0xa0`), so those should be replaced with normal spaces. Duplicate spaces are replaced with a single space.\n",
    "\n",
    "Further, duplicate haikus should be removed. To fascilitate duplicate removals, the line breaks are replaced with `/`'s, but the haikus are stored as lists of lines."
   ]
  },
  {
   "cell_type": "code",
   "execution_count": null,
   "metadata": {},
   "outputs": [],
   "source": [
    "from multiprocessing.pool import Pool, ThreadPool\n",
    "\n",
    "from tools.utils import read_from_file, preprocess, remove_stopwords, lemmatize\n",
    "\n",
    "import pandas as pd"
   ]
  },
  {
   "cell_type": "markdown",
   "metadata": {},
   "source": [
    "## Preprocessing\n",
    "\n",
    "TODO: Consider leaving the preprocessing to spaCy?\n",
    "\n",
    "To preprocess each haiku, it undergoes a sequence of steps. First, there are unicode non-breaking spaces (`0xa0`) that need to be replaced with normal spaces. Second, there are many hyphenated words with both hyphens and en-dashes, so replace both of those with spaces. Third, there are multiple instances of non-ascii characters leftover from downloading the haikus, so remove each of them. Fourth, replace all strings of multiple spaces with a single space. Last, ensure nothing got left out by the previous rules, and run every haiku through a filter, filtering out anything that isn't a lowercase ascii alphabetic character, space, single quote, forward slash (used to separate lines), and digits."
   ]
  },
  {
   "cell_type": "code",
   "execution_count": null,
   "metadata": {},
   "outputs": [],
   "source": [
    "haikus = read_from_file()\n",
    "\n",
    "# Remove duplicates in a manner that preserves order.\n",
    "# Requires Python 3.6+\n",
    "haikus = list(dict.fromkeys(haikus))"
   ]
  },
  {
   "cell_type": "code",
   "execution_count": null,
   "metadata": {},
   "outputs": [],
   "source": [
    "def process_haiku(haiku):\n",
    "    haiku = preprocess(haiku)\n",
    "    lemmatized = lemmatize(haiku)\n",
    "    lemmatized = lemmatized.split(\"/\")\n",
    "    lemmatized = [l.strip() for l in lemmatized]\n",
    "    nostops = [l.strip() for l in remove_stopwords(haiku).split(\"/\")]\n",
    "    haiku = [l.strip() for l in haiku.split(\"/\")]\n",
    "\n",
    "    return {\n",
    "        \"haiku\": haiku,\n",
    "        \"nostops\": nostops,\n",
    "        \"lemmas\": lemmatized,\n",
    "        \"lines\": len(haiku),\n",
    "    }"
   ]
  },
  {
   "cell_type": "code",
   "execution_count": null,
   "metadata": {},
   "outputs": [],
   "source": [
    "# %%timeit -r 1 -n 1\n",
    "# with Pool() as pool:\n",
    "#     rows = pool.map(process_haiku, haikus)"
   ]
  },
  {
   "cell_type": "code",
   "execution_count": null,
   "metadata": {},
   "outputs": [],
   "source": [
    "# %%timeit -r 1 -n 1\n",
    "# with ThreadPool() as pool:\n",
    "#     rows = pool.map(process_haiku, haikus)"
   ]
  },
  {
   "cell_type": "code",
   "execution_count": null,
   "metadata": {},
   "outputs": [],
   "source": [
    "# %%timeit -r 1 -n 1\n",
    "rows = list(map(process_haiku, haikus))"
   ]
  },
  {
   "cell_type": "code",
   "execution_count": null,
   "metadata": {},
   "outputs": [],
   "source": [
    "haikus = pd.DataFrame(rows)\n",
    "haikus.tail()"
   ]
  },
  {
   "cell_type": "code",
   "execution_count": null,
   "metadata": {},
   "outputs": [],
   "source": [
    "haikus.to_csv('../haikus.csv')"
   ]
  }
 ],
 "metadata": {
  "kernelspec": {
   "display_name": "Python 3",
   "language": "python",
   "name": "python3"
  },
  "language_info": {
   "codemirror_mode": {
    "name": "ipython",
    "version": 3
   },
   "file_extension": ".py",
   "mimetype": "text/x-python",
   "name": "python",
   "nbconvert_exporter": "python",
   "pygments_lexer": "ipython3",
   "version": "3.6.7"
  }
 },
 "nbformat": 4,
 "nbformat_minor": 2
}
